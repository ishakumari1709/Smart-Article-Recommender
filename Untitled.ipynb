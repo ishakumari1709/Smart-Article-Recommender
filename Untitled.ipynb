{
 "cells": [
  {
   "cell_type": "code",
   "execution_count": 1,
   "id": "1dd18b87-8c71-44cb-b5b4-52c0c935e1c1",
   "metadata": {},
   "outputs": [],
   "source": [
    "import pandas as pd\n",
    "from sklearn.feature_extraction.text import TfidfVectorizer\n",
    "from sklearn.cluster import KMeans\n",
    "from sklearn.metrics.pairwise import cosine_similarity"
   ]
  },
  {
   "cell_type": "code",
   "execution_count": 3,
   "id": "a4462056-e240-4c3f-928e-99c6c9e5fc1b",
   "metadata": {},
   "outputs": [],
   "source": [
    "# Load the dataset\n",
    "df = pd.read_csv(\"uci-news-aggregator.csv\")\n",
    "df = df[['TITLE', 'URL', 'CATEGORY']]"
   ]
  },
  {
   "cell_type": "code",
   "execution_count": 4,
   "id": "9ee4078e-e8b1-4bf6-b51a-d3348457dede",
   "metadata": {},
   "outputs": [],
   "source": [
    "# TF-IDF and KMeans\n",
    "vectorizer = TfidfVectorizer(stop_words='english')\n",
    "tfidf_matrix = vectorizer.fit_transform(df['TITLE'])"
   ]
  },
  {
   "cell_type": "code",
   "execution_count": 5,
   "id": "8511bec1-d50b-411a-ab61-5a6760af215b",
   "metadata": {},
   "outputs": [],
   "source": [
    "num_clusters = 5\n",
    "kmeans = KMeans(n_clusters=num_clusters, random_state=42)\n",
    "df['Cluster'] = kmeans.fit_predict(tfidf_matrix)"
   ]
  },
  {
   "cell_type": "code",
   "execution_count": 6,
   "id": "0746c384-a492-4089-a585-c3f36aee82f7",
   "metadata": {},
   "outputs": [],
   "source": [
    "# Recommendation function\n",
    "def recommend_articles_cluster(user_input, top_n=5):\n",
    "    user_vec = vectorizer.transform([user_input])\n",
    "    user_cluster = kmeans.predict(user_vec)[0]\n",
    "    cluster_articles = df[df['Cluster'] == user_cluster].copy()\n",
    "    cluster_articles['Similarity'] = cosine_similarity(user_vec, tfidf_matrix[df['Cluster'] == user_cluster]).flatten()\n",
    "    top_recommendations = cluster_articles.sort_values(by=\"Similarity\", ascending=False).head(top_n)\n",
    "    return top_recommendations[['TITLE', 'URL', 'Similarity']]\n"
   ]
  },
  {
   "cell_type": "code",
   "execution_count": 7,
   "id": "225668a6-0e8b-4da6-9a82-6215c69230a8",
   "metadata": {},
   "outputs": [
    {
     "name": "stdout",
     "output_type": "stream",
     "text": [
      "• Artificial intelligence\n",
      "  🔗 http://missoulanews.bigskypress.com/missoula/artificial-intelligence/Content\\?oid=1986651\n",
      "\n",
      "• Transcendence is an artificial intelligence missing the intelligence\n",
      "  🔗 http://www.tri-cityherald.com/2014/04/17/2930279/transcendence-is-an-artificial.html\\?sp=/99/1191/\n",
      "\n",
      "• REVIEW: Transcendence Has Only Artificial Intelligence\n",
      "  🔗 http://time.com/64808/transcendence-movie-review/\n",
      "\n",
      "• Film questions artificial intelligence\n",
      "  🔗 http://dailytrojan.com/2014/04/16/film-questions-artificial-intelligence/\n",
      "\n",
      "• Transcendence Review: Artificial Intelligence Takes Over\n",
      "  🔗 http://www.moviefanatic.com/2014/04/transcendence-review-artificial-intelligence-takes-over/\n",
      "\n"
     ]
    }
   ],
   "source": [
    "# Sample input\n",
    "user_query = \"artificial intelligence and machine learning\"\n",
    "results = recommend_articles_cluster(user_query)\n",
    "\n",
    "# Show results\n",
    "for idx, row in results.iterrows():\n",
    "    print(f\"• {row['TITLE']}\\n  🔗 {row['URL']}\\n\")"
   ]
  },
  {
   "cell_type": "code",
   "execution_count": null,
   "id": "6c254838-9eda-4d88-990f-34d86def5185",
   "metadata": {},
   "outputs": [],
   "source": []
  }
 ],
 "metadata": {
  "kernelspec": {
   "display_name": "Python 3 (ipykernel)",
   "language": "python",
   "name": "python3"
  },
  "language_info": {
   "codemirror_mode": {
    "name": "ipython",
    "version": 3
   },
   "file_extension": ".py",
   "mimetype": "text/x-python",
   "name": "python",
   "nbconvert_exporter": "python",
   "pygments_lexer": "ipython3",
   "version": "3.9.18"
  }
 },
 "nbformat": 4,
 "nbformat_minor": 5
}
